{
 "cells": [
  {
   "cell_type": "code",
   "execution_count": 42,
   "metadata": {},
   "outputs": [
    {
     "name": "stdout",
     "output_type": "stream",
     "text": [
      "total_marks = 500\n"
     ]
    }
   ],
   "source": [
    "total_marks=500\n",
    "print('total_marks =',total_marks)\n"
   ]
  },
  {
   "cell_type": "code",
   "execution_count": 40,
   "metadata": {},
   "outputs": [
    {
     "name": "stdout",
     "output_type": "stream",
     "text": [
      "maths,physics,chemistry,urdu,english = 93 60 50 33 67\n"
     ]
    }
   ],
   "source": [
    "maths=93\n",
    "english=67\n",
    "urdu=33\n",
    "physics=60\n",
    "chemistry=50\n",
    "print('maths,physics,chemistry,urdu,english =',maths,physics,chemistry,urdu,english)\n"
   ]
  },
  {
   "cell_type": "code",
   "execution_count": 30,
   "metadata": {},
   "outputs": [
    {
     "name": "stdout",
     "output_type": "stream",
     "text": [
      "303\n"
     ]
    }
   ],
   "source": [
    "obtained_marks = chemistry + maths + physics + urdu + english\n",
    "print(obtained_marks)"
   ]
  },
  {
   "cell_type": "code",
   "execution_count": 29,
   "metadata": {},
   "outputs": [
    {
     "name": "stdout",
     "output_type": "stream",
     "text": [
      "60.6\n"
     ]
    }
   ],
   "source": [
    "percentage = (obtained_marks/total_marks)*100\n",
    "print(percentage)"
   ]
  },
  {
   "cell_type": "code",
   "execution_count": 48,
   "metadata": {},
   "outputs": [
    {
     "name": "stdout",
     "output_type": "stream",
     "text": [
      "Grade = \n"
     ]
    }
   ],
   "source": [
    "grade = ''\n",
    "print('Grade =',grade)"
   ]
  },
  {
   "cell_type": "code",
   "execution_count": 45,
   "metadata": {},
   "outputs": [
    {
     "ename": "SyntaxError",
     "evalue": "invalid syntax (<ipython-input-45-c6edfcc8cc6d>, line 1)",
     "output_type": "error",
     "traceback": [
      "\u001b[1;36m  File \u001b[1;32m\"<ipython-input-45-c6edfcc8cc6d>\"\u001b[1;36m, line \u001b[1;32m1\u001b[0m\n\u001b[1;33m    if percentage>=90 and percentage<=100\u001b[0m\n\u001b[1;37m                                         ^\u001b[0m\n\u001b[1;31mSyntaxError\u001b[0m\u001b[1;31m:\u001b[0m invalid syntax\n"
     ]
    }
   ],
   "source": [
    "if percentage>=90 and percentage<=100\n",
    "    print('grade=A+')\n",
    "if percentage>=80 and percentage<90 :\n",
    "    print(\"grade=A\")\n",
    "if percentage>=70 and percentage<80 :\n",
    "    print(\"Grade=B\")\n",
    "if percentage>=60 and percentage<70:\n",
    "    print(\"Grade=C\")\n",
    "if percentage<60 :\n",
    "    print(\"Fail\")"
   ]
  },
  {
   "cell_type": "code",
   "execution_count": 46,
   "metadata": {},
   "outputs": [
    {
     "name": "stdout",
     "output_type": "stream",
     "text": [
      "Percentage= 60.6 %\n",
      "Grade= \n",
      "Obtained Marks= 303\n"
     ]
    }
   ],
   "source": [
    "print(\"Percentage=\",percentage,\"%\")\n",
    "print(\"Grade=\",grade)\n",
    "print(\"Obtained Marks=\",obtained_marks)"
   ]
  },
  {
   "cell_type": "code",
   "execution_count": null,
   "metadata": {},
   "outputs": [],
   "source": []
  }
 ],
 "metadata": {
  "kernelspec": {
   "display_name": "Python 3",
   "language": "python",
   "name": "python3"
  },
  "language_info": {
   "codemirror_mode": {
    "name": "ipython",
    "version": 3
   },
   "file_extension": ".py",
   "mimetype": "text/x-python",
   "name": "python",
   "nbconvert_exporter": "python",
   "pygments_lexer": "ipython3",
   "version": "3.6.5"
  }
 },
 "nbformat": 4,
 "nbformat_minor": 2
}
